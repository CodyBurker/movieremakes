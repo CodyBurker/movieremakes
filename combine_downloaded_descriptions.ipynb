{
 "cells": [
  {
   "cell_type": "code",
   "execution_count": 1,
   "metadata": {},
   "outputs": [],
   "source": [
    "import os\n",
    "import polars as pl\n",
    "from tqdm import tqdm"
   ]
  },
  {
   "cell_type": "markdown",
   "metadata": {},
   "source": [
    "Load descriptions into dataframe alongside movie list. Maybe save as parquet or something to save on filesize. \n",
    "\n",
    "Then parse out whether it is a remake. Then save as a clean dataset.\n",
    "\n",
    "Then let the analysis begin."
   ]
  },
  {
   "cell_type": "code",
   "execution_count": 2,
   "metadata": {},
   "outputs": [],
   "source": [
    "descriptions = os.listdir('data/raw/descriptions/')\n",
    "filepath = 'data/raw/descriptions/'\n",
    "prefix = 'https://en.wikipedia.org/api/rest_v1/page/summary/'\n",
    "movies = pl.read_csv('data/raw/movies_list_with_links.csv').with_columns(\n",
    "    link = pl.col('title_href').str.replace('/wiki/','')\n",
    ").with_columns(\n",
    "    filename= pl.concat_str(\n",
    "        # pl.lit(filepath),\n",
    "        pl.col('link'),\n",
    "        pl.lit('.txt')\n",
    "    )\n",
    ").unique('filename').filter(pl.col('filename').is_not_null())"
   ]
  },
  {
   "cell_type": "code",
   "execution_count": 3,
   "metadata": {},
   "outputs": [
    {
     "name": "stderr",
     "output_type": "stream",
     "text": [
      "  0%|          | 0/11824 [00:00<?, ?it/s]"
     ]
    },
    {
     "name": "stderr",
     "output_type": "stream",
     "text": [
      "100%|██████████| 11824/11824 [00:02<00:00, 4406.99it/s]\n"
     ]
    }
   ],
   "source": [
    "files = {}\n",
    "for f in tqdm(descriptions):\n",
    "    with open(f'{filepath}{f}') as txt_file:\n",
    "        files[f] = txt_file.read()"
   ]
  },
  {
   "cell_type": "code",
   "execution_count": 4,
   "metadata": {},
   "outputs": [],
   "source": [
    "descriptions_df = pl.DataFrame({\n",
    "    'filename': list(files.keys()),\n",
    "    'description': list(files.values())\n",
    "    }).unique('filename').filter(pl.col('filename').is_not_null())"
   ]
  },
  {
   "cell_type": "code",
   "execution_count": 5,
   "metadata": {},
   "outputs": [
    {
     "data": {
      "text/plain": [
       "11824"
      ]
     },
     "execution_count": 5,
     "metadata": {},
     "output_type": "execute_result"
    }
   ],
   "source": [
    "len(descriptions_df)"
   ]
  },
  {
   "cell_type": "code",
   "execution_count": 6,
   "metadata": {},
   "outputs": [
    {
     "data": {
      "text/plain": [
       "True"
      ]
     },
     "execution_count": 6,
     "metadata": {},
     "output_type": "execute_result"
    }
   ],
   "source": [
    "movies['filename'].unique().len() == len(movies['filename'])"
   ]
  },
  {
   "cell_type": "code",
   "execution_count": 7,
   "metadata": {},
   "outputs": [
    {
     "data": {
      "text/plain": [
       "True"
      ]
     },
     "execution_count": 7,
     "metadata": {},
     "output_type": "execute_result"
    }
   ],
   "source": [
    "descriptions_df['filename'].unique().len() == len(descriptions_df)"
   ]
  },
  {
   "cell_type": "code",
   "execution_count": 12,
   "metadata": {},
   "outputs": [],
   "source": [
    "joined = movies.join(\n",
    "    descriptions_df,\n",
    "    on = 'filename',\n",
    "    how = 'inner'\n",
    ")"
   ]
  },
  {
   "cell_type": "code",
   "execution_count": 54,
   "metadata": {},
   "outputs": [
    {
     "data": {
      "text/html": [
       "<div><style>\n",
       ".dataframe > thead > tr,\n",
       ".dataframe > tbody > tr {\n",
       "  text-align: right;\n",
       "  white-space: pre-wrap;\n",
       "}\n",
       "</style>\n",
       "<small>shape: (11_824, 18)</small><table border=\"1\" class=\"dataframe\"><thead><tr><th>year</th><th>month</th><th>day</th><th>title</th><th>production_company</th><th>cast_and_crew</th><th>title_text</th><th>title_href</th><th>production_company_text</th><th>production_company_href</th><th>link</th><th>filename</th><th>description</th><th>description_lower</th><th>sequel</th><th>remake</th><th>date</th><th>date_parsed</th></tr><tr><td>i64</td><td>str</td><td>i64</td><td>str</td><td>str</td><td>str</td><td>str</td><td>str</td><td>str</td><td>str</td><td>str</td><td>str</td><td>str</td><td>str</td><td>bool</td><td>bool</td><td>str</td><td>date</td></tr></thead><tbody><tr><td>2003</td><td>&quot;MARCH&quot;</td><td>28</td><td>&quot;(&#x27;Assassination Tango&#x27;, &#x27;/wiki…</td><td>&quot;(&#x27;United Artists / American Zo…</td><td>&quot;(&#x27;Robert Duvall (director/scre…</td><td>&quot;Assassination Tango&quot;</td><td>&quot;/wiki/Assassination_Tango&quot;</td><td>&quot;United Artists / American Zoet…</td><td>&quot;/wiki/United_Artists&quot;</td><td>&quot;Assassination_Tango&quot;</td><td>&quot;Assassination_Tango.txt&quot;</td><td>&quot;Assassination Tango is a 2002 …</td><td>&quot;assassination tango is a 2002 …</td><td>false</td><td>false</td><td>&quot;MARCH 28 2003&quot;</td><td>2003-03-28</td></tr><tr><td>1977</td><td>&quot;MARCH&quot;</td><td>11</td><td>&quot;(&#x27;Black Sunday&#x27;, &#x27;/wiki/Black_…</td><td>&quot;(&#x27;Paramount Pictures&#x27;, &#x27;/wiki/…</td><td>&quot;(&#x27;John Frankenheimer (director…</td><td>&quot;Black Sunday&quot;</td><td>&quot;/wiki/Black_Sunday_(1977_film)&quot;</td><td>&quot;Paramount Pictures&quot;</td><td>&quot;/wiki/Paramount_Pictures&quot;</td><td>&quot;Black_Sunday_(1977_film)&quot;</td><td>&quot;Black_Sunday_(1977_film).txt&quot;</td><td>&quot;Black Sunday is a 1977 America…</td><td>&quot;black sunday is a 1977 america…</td><td>false</td><td>false</td><td>&quot;MARCH 11 1977&quot;</td><td>1977-03-11</td></tr><tr><td>1995</td><td>&quot;FEBRUARY&quot;</td><td>24</td><td>&quot;(&#x27;The Walking Dead&#x27;, &#x27;/wiki/Th…</td><td>&quot;(&#x27;Savoy Pictures&#x27;, &#x27;/wiki/Savo…</td><td>&quot;(&#x27;Preston A. Whitmore II (dire…</td><td>&quot;The Walking Dead&quot;</td><td>&quot;/wiki/The_Walking_Dead_(1995_f…</td><td>&quot;Savoy Pictures&quot;</td><td>&quot;/wiki/Savoy_Pictures&quot;</td><td>&quot;The_Walking_Dead_(1995_film)&quot;</td><td>&quot;The_Walking_Dead_(1995_film).t…</td><td>&quot;The Walking Dead is a 1995 war…</td><td>&quot;the walking dead is a 1995 war…</td><td>false</td><td>false</td><td>&quot;FEBRUARY 24 1995&quot;</td><td>1995-02-24</td></tr><tr><td>2000</td><td>&quot;OCTOBER&quot;</td><td>3</td><td>&quot;(&#x27;Scooby-Doo and the Alien Inv…</td><td>&quot;(&#x27;Warner Home Video&#x27;, &#x27;/wiki/W…</td><td>&quot;(&#x27;Jim Stenstrum (director); Da…</td><td>&quot;Scooby-Doo and the Alien Invad…</td><td>&quot;/wiki/Scooby-Doo_and_the_Alien…</td><td>&quot;Warner Home Video&quot;</td><td>&quot;/wiki/Warner_Bros._Home_Entert…</td><td>&quot;Scooby-Doo_and_the_Alien_Invad…</td><td>&quot;Scooby-Doo_and_the_Alien_Invad…</td><td>&quot;Scooby-Doo and the Alien Invad…</td><td>&quot;scooby-doo and the alien invad…</td><td>false</td><td>false</td><td>&quot;OCTOBER 3 2000&quot;</td><td>2000-10-03</td></tr><tr><td>2007</td><td>&quot;MARCH&quot;</td><td>16</td><td>&quot;(&#x27;I Think I Love My Wife&#x27;, &#x27;/w…</td><td>&quot;(&#x27;Fox Searchlight Pictures&#x27;, &#x27;…</td><td>&quot;(&#x27;Chris Rock (director/screenp…</td><td>&quot;I Think I Love My Wife&quot;</td><td>&quot;/wiki/I_Think_I_Love_My_Wife&quot;</td><td>&quot;Fox Searchlight Pictures&quot;</td><td>&quot;/wiki/Searchlight_Pictures&quot;</td><td>&quot;I_Think_I_Love_My_Wife&quot;</td><td>&quot;I_Think_I_Love_My_Wife.txt&quot;</td><td>&quot;I Think I Love My Wife is a 20…</td><td>&quot;i think i love my wife is a 20…</td><td>false</td><td>true</td><td>&quot;MARCH 16 2007&quot;</td><td>2007-03-16</td></tr><tr><td>&hellip;</td><td>&hellip;</td><td>&hellip;</td><td>&hellip;</td><td>&hellip;</td><td>&hellip;</td><td>&hellip;</td><td>&hellip;</td><td>&hellip;</td><td>&hellip;</td><td>&hellip;</td><td>&hellip;</td><td>&hellip;</td><td>&hellip;</td><td>&hellip;</td><td>&hellip;</td><td>&hellip;</td><td>&hellip;</td></tr><tr><td>1997</td><td>&quot;DECEMBER&quot;</td><td>31</td><td>&quot;(&#x27;Oscar and Lucinda&#x27;, &#x27;/wiki/O…</td><td>&quot;(&#x27;Fox Searchlight Pictures&#x27;, &#x27;…</td><td>&quot;(&#x27;Gillian Armstrong (director)…</td><td>&quot;Oscar and Lucinda&quot;</td><td>&quot;/wiki/Oscar_and_Lucinda_(film)&quot;</td><td>&quot;Fox Searchlight Pictures&quot;</td><td>&quot;/wiki/Searchlight_Pictures&quot;</td><td>&quot;Oscar_and_Lucinda_(film)&quot;</td><td>&quot;Oscar_and_Lucinda_(film).txt&quot;</td><td>&quot;Oscar and Lucinda is a 1997 ro…</td><td>&quot;oscar and lucinda is a 1997 ro…</td><td>false</td><td>false</td><td>&quot;DECEMBER 31 1997&quot;</td><td>1997-12-31</td></tr><tr><td>1987</td><td>&quot;JUNE&quot;</td><td>5</td><td>&quot;(&#x27;Cyclone&#x27;, &#x27;/wiki/Cyclone_(19…</td><td>&quot;(&#x27;CineTel Films&#x27;, &#x27;/wiki/CineT…</td><td>&quot;(&#x27;Fred Olen Ray (director/scre…</td><td>&quot;Cyclone&quot;</td><td>&quot;/wiki/Cyclone_(1987_film)&quot;</td><td>&quot;CineTel Films&quot;</td><td>&quot;/wiki/CineTel_Films&quot;</td><td>&quot;Cyclone_(1987_film)&quot;</td><td>&quot;Cyclone_(1987_film).txt&quot;</td><td>&quot;Cyclone is a 1987 science fict…</td><td>&quot;cyclone is a 1987 science fict…</td><td>false</td><td>false</td><td>&quot;JUNE 5 1987&quot;</td><td>1987-06-05</td></tr><tr><td>2020</td><td>&quot;OCTOBER&quot;</td><td>6</td><td>&quot;(&#x27;The Lie&#x27;, &#x27;/wiki/The_Lie_(20…</td><td>&quot;(&#x27;Amazon Studios / Blumhouse P…</td><td>&quot;(&#x27;Veena Sud (director/screenpl…</td><td>&quot;The Lie&quot;</td><td>&quot;/wiki/The_Lie_(2018_film)&quot;</td><td>&quot;Amazon Studios / Blumhouse Pro…</td><td>&quot;/wiki/Amazon_Studios&quot;</td><td>&quot;The_Lie_(2018_film)&quot;</td><td>&quot;The_Lie_(2018_film).txt&quot;</td><td>&quot;The Lie is a 2018 psychologica…</td><td>&quot;the lie is a 2018 psychologica…</td><td>false</td><td>true</td><td>&quot;OCTOBER 6 2020&quot;</td><td>2020-10-06</td></tr><tr><td>2003</td><td>&quot;JULY&quot;</td><td>2</td><td>&quot;(&#x27;Sinbad: Legend of the Seven …</td><td>&quot;(&#x27;DreamWorks&#x27;, &#x27;/wiki/DreamWor…</td><td>&quot;(&#x27;Tim Johnson, Patrick Gilmore…</td><td>&quot;Sinbad: Legend of the Seven Se…</td><td>&quot;/wiki/Sinbad:_Legend_of_the_Se…</td><td>&quot;DreamWorks&quot;</td><td>&quot;/wiki/DreamWorks_Pictures&quot;</td><td>&quot;Sinbad:_Legend_of_the_Seven_Se…</td><td>&quot;Sinbad:_Legend_of_the_Seven_Se…</td><td>&quot;Sinbad: Legend of the Seven Se…</td><td>&quot;sinbad: legend of the seven se…</td><td>false</td><td>false</td><td>&quot;JULY 2 2003&quot;</td><td>2003-07-02</td></tr><tr><td>1992</td><td>&quot;APRIL&quot;</td><td>24</td><td>&quot;(&#x27;A Midnight Clear&#x27;, &#x27;/wiki/A_…</td><td>&quot;(&#x27;Beacon Pictures&#x27;, &#x27;/wiki/Bea…</td><td>&quot;(&#x27;Keith Gordon (director/scree…</td><td>&quot;A Midnight Clear&quot;</td><td>&quot;/wiki/A_Midnight_Clear&quot;</td><td>&quot;Beacon Pictures&quot;</td><td>&quot;/wiki/Beacon_Pictures&quot;</td><td>&quot;A_Midnight_Clear&quot;</td><td>&quot;A_Midnight_Clear.txt&quot;</td><td>&quot;A Midnight Clear is a 1992 Ame…</td><td>&quot;a midnight clear is a 1992 ame…</td><td>false</td><td>false</td><td>&quot;APRIL 24 1992&quot;</td><td>1992-04-24</td></tr></tbody></table></div>"
      ],
      "text/plain": [
       "shape: (11_824, 18)\n",
       "┌──────┬──────────┬─────┬───────────────────┬───┬────────┬────────┬──────────────────┬─────────────┐\n",
       "│ year ┆ month    ┆ day ┆ title             ┆ … ┆ sequel ┆ remake ┆ date             ┆ date_parsed │\n",
       "│ ---  ┆ ---      ┆ --- ┆ ---               ┆   ┆ ---    ┆ ---    ┆ ---              ┆ ---         │\n",
       "│ i64  ┆ str      ┆ i64 ┆ str               ┆   ┆ bool   ┆ bool   ┆ str              ┆ date        │\n",
       "╞══════╪══════════╪═════╪═══════════════════╪═══╪════════╪════════╪══════════════════╪═════════════╡\n",
       "│ 2003 ┆ MARCH    ┆ 28  ┆ ('Assassination   ┆ … ┆ false  ┆ false  ┆ MARCH 28 2003    ┆ 2003-03-28  │\n",
       "│      ┆          ┆     ┆ Tango', '/wiki…   ┆   ┆        ┆        ┆                  ┆             │\n",
       "│ 1977 ┆ MARCH    ┆ 11  ┆ ('Black Sunday',  ┆ … ┆ false  ┆ false  ┆ MARCH 11 1977    ┆ 1977-03-11  │\n",
       "│      ┆          ┆     ┆ '/wiki/Black_…    ┆   ┆        ┆        ┆                  ┆             │\n",
       "│ 1995 ┆ FEBRUARY ┆ 24  ┆ ('The Walking     ┆ … ┆ false  ┆ false  ┆ FEBRUARY 24 1995 ┆ 1995-02-24  │\n",
       "│      ┆          ┆     ┆ Dead', '/wiki/Th… ┆   ┆        ┆        ┆                  ┆             │\n",
       "│ 2000 ┆ OCTOBER  ┆ 3   ┆ ('Scooby-Doo and  ┆ … ┆ false  ┆ false  ┆ OCTOBER 3 2000   ┆ 2000-10-03  │\n",
       "│      ┆          ┆     ┆ the Alien Inv…    ┆   ┆        ┆        ┆                  ┆             │\n",
       "│ 2007 ┆ MARCH    ┆ 16  ┆ ('I Think I Love  ┆ … ┆ false  ┆ true   ┆ MARCH 16 2007    ┆ 2007-03-16  │\n",
       "│      ┆          ┆     ┆ My Wife', '/w…    ┆   ┆        ┆        ┆                  ┆             │\n",
       "│ …    ┆ …        ┆ …   ┆ …                 ┆ … ┆ …      ┆ …      ┆ …                ┆ …           │\n",
       "│ 1997 ┆ DECEMBER ┆ 31  ┆ ('Oscar and       ┆ … ┆ false  ┆ false  ┆ DECEMBER 31 1997 ┆ 1997-12-31  │\n",
       "│      ┆          ┆     ┆ Lucinda',         ┆   ┆        ┆        ┆                  ┆             │\n",
       "│      ┆          ┆     ┆ '/wiki/O…         ┆   ┆        ┆        ┆                  ┆             │\n",
       "│ 1987 ┆ JUNE     ┆ 5   ┆ ('Cyclone', '/wik ┆ … ┆ false  ┆ false  ┆ JUNE 5 1987      ┆ 1987-06-05  │\n",
       "│      ┆          ┆     ┆ i/Cyclone_(19…    ┆   ┆        ┆        ┆                  ┆             │\n",
       "│ 2020 ┆ OCTOBER  ┆ 6   ┆ ('The Lie', '/wik ┆ … ┆ false  ┆ true   ┆ OCTOBER 6 2020   ┆ 2020-10-06  │\n",
       "│      ┆          ┆     ┆ i/The_Lie_(20…    ┆   ┆        ┆        ┆                  ┆             │\n",
       "│ 2003 ┆ JULY     ┆ 2   ┆ ('Sinbad: Legend  ┆ … ┆ false  ┆ false  ┆ JULY 2 2003      ┆ 2003-07-02  │\n",
       "│      ┆          ┆     ┆ of the Seven …    ┆   ┆        ┆        ┆                  ┆             │\n",
       "│ 1992 ┆ APRIL    ┆ 24  ┆ ('A Midnight      ┆ … ┆ false  ┆ false  ┆ APRIL 24 1992    ┆ 1992-04-24  │\n",
       "│      ┆          ┆     ┆ Clear',           ┆   ┆        ┆        ┆                  ┆             │\n",
       "│      ┆          ┆     ┆ '/wiki/A_…        ┆   ┆        ┆        ┆                  ┆             │\n",
       "└──────┴──────────┴─────┴───────────────────┴───┴────────┴────────┴──────────────────┴─────────────┘"
      ]
     },
     "execution_count": 54,
     "metadata": {},
     "output_type": "execute_result"
    }
   ],
   "source": [
    "with_context = joined.with_columns(\n",
    "    description_lower = pl.col('description').str.to_lowercase()\n",
    ").with_columns(\n",
    "    sequel = (\n",
    "        pl.col('description_lower').str.contains('sequel') | \n",
    "        pl.col('description_lower').str.contains('prequel')\n",
    "    ),\n",
    "    remake = (\n",
    "        pl.col('description_lower').str.contains('remake') | \n",
    "        pl.col('description_lower').str.contains('reboot')\n",
    "    ),\n",
    "    date = pl.concat_str(\n",
    "        'month',\n",
    "        pl.lit(' '),\n",
    "        'day',\n",
    "        pl.lit(' '),\n",
    "        'year',\n",
    "        )\n",
    ").with_columns(\n",
    "    date_parsed = pl.col('date').str.to_date(format = '%B %d %Y')\n",
    ")\n",
    "with_context"
   ]
  }
 ],
 "metadata": {
  "kernelspec": {
   "display_name": "Python 3",
   "language": "python",
   "name": "python3"
  },
  "language_info": {
   "codemirror_mode": {
    "name": "ipython",
    "version": 3
   },
   "file_extension": ".py",
   "mimetype": "text/x-python",
   "name": "python",
   "nbconvert_exporter": "python",
   "pygments_lexer": "ipython3",
   "version": "3.11.9"
  }
 },
 "nbformat": 4,
 "nbformat_minor": 2
}

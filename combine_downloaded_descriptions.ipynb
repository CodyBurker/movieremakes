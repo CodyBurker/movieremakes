{
 "cells": [
  {
   "cell_type": "code",
   "execution_count": 1,
   "metadata": {},
   "outputs": [],
   "source": [
    "import os\n",
    "import polars as pl\n",
    "from tqdm import tqdm"
   ]
  },
  {
   "cell_type": "markdown",
   "metadata": {},
   "source": [
    "Load descriptions into dataframe alongside movie list. Maybe save as parquet or something to save on filesize. \n",
    "\n",
    "Then parse out whether it is a remake. Then save as a clean dataset.\n",
    "\n",
    "Then let the analysis begin."
   ]
  },
  {
   "cell_type": "code",
   "execution_count": 2,
   "metadata": {},
   "outputs": [],
   "source": [
    "descriptions = os.listdir('data/raw/descriptions/')\n",
    "filepath = 'data/raw/descriptions/'\n",
    "prefix = 'https://en.wikipedia.org/api/rest_v1/page/summary/'\n",
    "movies = pl.read_csv('data/raw/movies_list_with_links.csv').with_columns(\n",
    "    link = pl.col('title_href').str.replace('/wiki/','')\n",
    ").with_columns(\n",
    "    filename= pl.concat_str(\n",
    "        # pl.lit(filepath),\n",
    "        pl.col('link'),\n",
    "        pl.lit('.txt')\n",
    "    )\n",
    ").unique('filename').filter(pl.col('filename').is_not_null())"
   ]
  },
  {
   "cell_type": "code",
   "execution_count": 3,
   "metadata": {},
   "outputs": [
    {
     "name": "stderr",
     "output_type": "stream",
     "text": [
      "  0%|          | 0/11824 [00:00<?, ?it/s]"
     ]
    },
    {
     "name": "stderr",
     "output_type": "stream",
     "text": [
      "100%|██████████| 11824/11824 [00:02<00:00, 4406.99it/s]\n"
     ]
    }
   ],
   "source": [
    "files = {}\n",
    "for f in tqdm(descriptions):\n",
    "    with open(f'{filepath}{f}') as txt_file:\n",
    "        files[f] = txt_file.read()"
   ]
  },
  {
   "cell_type": "code",
   "execution_count": 4,
   "metadata": {},
   "outputs": [],
   "source": [
    "descriptions_df = pl.DataFrame({\n",
    "    'filename': list(files.keys()),\n",
    "    'description': list(files.values())\n",
    "    }).unique('filename').filter(pl.col('filename').is_not_null())"
   ]
  },
  {
   "cell_type": "code",
   "execution_count": 6,
   "metadata": {},
   "outputs": [
    {
     "data": {
      "text/plain": [
       "True"
      ]
     },
     "execution_count": 6,
     "metadata": {},
     "output_type": "execute_result"
    }
   ],
   "source": [
    "movies['filename'].unique().len() == len(movies['filename'])"
   ]
  },
  {
   "cell_type": "code",
   "execution_count": 7,
   "metadata": {},
   "outputs": [
    {
     "data": {
      "text/plain": [
       "True"
      ]
     },
     "execution_count": 7,
     "metadata": {},
     "output_type": "execute_result"
    }
   ],
   "source": [
    "descriptions_df['filename'].unique().len() == len(descriptions_df)"
   ]
  },
  {
   "cell_type": "code",
   "execution_count": 12,
   "metadata": {},
   "outputs": [],
   "source": [
    "joined = movies.join(\n",
    "    descriptions_df,\n",
    "    on = 'filename',\n",
    "    how = 'inner'\n",
    ")"
   ]
  },
  {
   "cell_type": "code",
   "execution_count": 63,
   "metadata": {},
   "outputs": [],
   "source": [
    "with_context = joined.with_columns(\n",
    "    description_lower = pl.col('description').str.to_lowercase()\n",
    ").with_columns(\n",
    "    sequel = (\n",
    "        pl.col('description_lower').str.contains('sequel') | \n",
    "        pl.col('description_lower').str.contains('prequel')\n",
    "    ),\n",
    "    remake = (\n",
    "        pl.col('description_lower').str.contains('remake') | \n",
    "        pl.col('description_lower').str.contains('reboot')\n",
    "    ),\n",
    "    date = pl.concat_str(\n",
    "        'month',\n",
    "        pl.lit(' '),\n",
    "        'day',\n",
    "        pl.lit(' '),\n",
    "        'year',\n",
    "        )\n",
    ").with_columns(\n",
    "    date_parsed = pl.col('date').str.to_date(format = '%B %d %Y')\n",
    ").with_columns(\n",
    "    month_start = pl.col('date_parsed').dt.month_start(),\n",
    ").select(\n",
    "    'title_text',\n",
    "    'description',\n",
    "    'description_lower',\n",
    "    'sequel',\n",
    "    'remake',\n",
    "    pl.col('date_parsed').alias('release_date'),\n",
    "    pl.col('month_start').alias('release_month')\n",
    ")\n",
    "with_context.write_parquet('data/processed/movie_data.parquet')\n",
    "with_context.write_csv('data/processed/movie_data.csv')"
   ]
  }
 ],
 "metadata": {
  "kernelspec": {
   "display_name": "Python 3",
   "language": "python",
   "name": "python3"
  },
  "language_info": {
   "codemirror_mode": {
    "name": "ipython",
    "version": 3
   },
   "file_extension": ".py",
   "mimetype": "text/x-python",
   "name": "python",
   "nbconvert_exporter": "python",
   "pygments_lexer": "ipython3",
   "version": "3.11.9"
  }
 },
 "nbformat": 4,
 "nbformat_minor": 2
}

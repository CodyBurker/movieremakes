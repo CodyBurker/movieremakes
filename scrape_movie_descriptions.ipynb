{
 "cells": [
  {
   "cell_type": "code",
   "execution_count": 2,
   "metadata": {},
   "outputs": [],
   "source": [
    "import requests as r\n",
    "import polars as pl"
   ]
  },
  {
   "cell_type": "code",
   "execution_count": 18,
   "metadata": {},
   "outputs": [],
   "source": [
    "prefix = 'https://en.wikipedia.org/api/rest_v1/page/summary/'"
   ]
  },
  {
   "cell_type": "code",
   "execution_count": 20,
   "metadata": {},
   "outputs": [
    {
     "data": {
      "text/html": [
       "<div><style>\n",
       ".dataframe > thead > tr,\n",
       ".dataframe > tbody > tr {\n",
       "  text-align: right;\n",
       "  white-space: pre-wrap;\n",
       "}\n",
       "</style>\n",
       "<small>shape: (12_122, 11)</small><table border=\"1\" class=\"dataframe\"><thead><tr><th>month</th><th>day</th><th>production_company</th><th>cast_and_crew</th><th>ref</th><th>title_text</th><th>title_href</th><th>production_company_text</th><th>production_company_href</th><th>link</th><th>summary_link</th></tr><tr><td>str</td><td>i64</td><td>str</td><td>str</td><td>str</td><td>str</td><td>str</td><td>str</td><td>str</td><td>str</td><td>str</td></tr></thead><tbody><tr><td>&quot;JANUARY&quot;</td><td>1</td><td>&quot;(&#x27;American International Pictu…</td><td>&quot;(&#x27;Gordon Hessler (director); C…</td><td>&quot;(&#x27;&#x27;, None)&quot;</td><td>&quot;Scream and Scream Again&quot;</td><td>&quot;/wiki/Scream_and_Scream_Again&quot;</td><td>&quot;American International Picture…</td><td>&quot;/wiki/American_International_P…</td><td>&quot;Scream_and_Scream_Again&quot;</td><td>&quot;https://en.wikipedia.org/api/r…</td></tr><tr><td>&quot;JANUARY&quot;</td><td>2</td><td>&quot;(&#x27;Cinerama Releasing Corporati…</td><td>&quot;(&#x27;George Bloomfield (director/…</td><td>&quot;(&#x27;&#x27;, None)&quot;</td><td>&quot;Jenny&quot;</td><td>&quot;/wiki/Jenny_(1970_film)&quot;</td><td>&quot;Cinerama Releasing Corporation…</td><td>&quot;/wiki/Cinerama_Releasing_Corpo…</td><td>&quot;Jenny_(1970_film)&quot;</td><td>&quot;https://en.wikipedia.org/api/r…</td></tr><tr><td>&quot;JANUARY&quot;</td><td>6</td><td>&quot;(&#x27;United Artists&#x27;, &#x27;/wiki/Unit…</td><td>&quot;(&#x27;Jerzy Skolimowski (director/…</td><td>&quot;(&#x27;&#x27;, None)&quot;</td><td>&quot;The Adventures of Gerard&quot;</td><td>&quot;/wiki/The_Adventures_of_Gerard&quot;</td><td>&quot;United Artists&quot;</td><td>&quot;/wiki/United_Artists&quot;</td><td>&quot;The_Adventures_of_Gerard&quot;</td><td>&quot;https://en.wikipedia.org/api/r…</td></tr><tr><td>&quot;JANUARY&quot;</td><td>9</td><td>&quot;(&#x27;Metro-Goldwyn-Mayer&#x27;, &#x27;/wiki…</td><td>&quot;(&#x27;Ralph Nelson (director); Jam…</td><td>&quot;(&#x27;&#x27;, None)&quot;</td><td>&quot;...tick...tick...tick...&quot;</td><td>&quot;/wiki/...tick...tick...tick...&quot;</td><td>&quot;Metro-Goldwyn-Mayer&quot;</td><td>&quot;/wiki/Metro-Goldwyn-Mayer&quot;</td><td>&quot;...tick...tick...tick...&quot;</td><td>&quot;https://en.wikipedia.org/api/r…</td></tr><tr><td>&quot;JANUARY&quot;</td><td>14</td><td>&quot;(&#x27;Warner Bros.-Seven Arts&#x27;, &#x27;/…</td><td>&quot;(&#x27;Sidney Lumet (director); Gor…</td><td>&quot;(&#x27;&#x27;, None)&quot;</td><td>&quot;Last of the Mobile Hot Shots&quot;</td><td>&quot;/wiki/Last_of_the_Mobile_Hot_S…</td><td>&quot;Warner Bros.-Seven Arts&quot;</td><td>&quot;/wiki/Warner_Bros.-Seven_Arts&quot;</td><td>&quot;Last_of_the_Mobile_Hot_Shots&quot;</td><td>&quot;https://en.wikipedia.org/api/r…</td></tr><tr><td>&hellip;</td><td>&hellip;</td><td>&hellip;</td><td>&hellip;</td><td>&hellip;</td><td>&hellip;</td><td>&hellip;</td><td>&hellip;</td><td>&hellip;</td><td>&hellip;</td><td>&hellip;</td></tr><tr><td>&quot;DECEMBER&quot;</td><td>22</td><td>&quot;(&#x27;Ketchup Entertainment / Mubi…</td><td>&quot;(&#x27;Michel Franco (director/scre…</td><td>&quot;(&#x27;[326]&#x27;, &#x27;#cite_note-326&#x27;)&quot;</td><td>&quot;Memory&quot;</td><td>&quot;/wiki/Memory_(2023_film)&quot;</td><td>&quot;Ketchup Entertainment / Mubi&quot;</td><td>&quot;/wiki/Ketchup_Entertainment&quot;</td><td>&quot;Memory_(2023_film)&quot;</td><td>&quot;https://en.wikipedia.org/api/r…</td></tr><tr><td>&quot;DECEMBER&quot;</td><td>25</td><td>&quot;(&#x27;Warner Bros. Pictures / Ambl…</td><td>&quot;(&#x27;Blitz Bazawule (director), M…</td><td>&quot;(&#x27;[327]&#x27;, &#x27;#cite_note-327&#x27;)&quot;</td><td>&quot;The Color Purple&quot;</td><td>&quot;/wiki/The_Color_Purple_(2023_f…</td><td>&quot;Warner Bros. Pictures / Amblin…</td><td>&quot;/wiki/Warner_Bros._Pictures&quot;</td><td>&quot;The_Color_Purple_(2023_film)&quot;</td><td>&quot;https://en.wikipedia.org/api/r…</td></tr><tr><td>&quot;DECEMBER&quot;</td><td>25</td><td>&quot;(&#x27;Metro-Goldwyn-Mayer / Smokeh…</td><td>&quot;(&#x27;George Clooney (director), M…</td><td>&quot;(&#x27;[328]&#x27;, &#x27;#cite_note-328&#x27;)&quot;</td><td>&quot;The Boys in the Boat&quot;</td><td>&quot;/wiki/The_Boys_in_the_Boat_(fi…</td><td>&quot;Metro-Goldwyn-Mayer / Smokehou…</td><td>&quot;/wiki/Metro-Goldwyn-Mayer&quot;</td><td>&quot;The_Boys_in_the_Boat_(film)&quot;</td><td>&quot;https://en.wikipedia.org/api/r…</td></tr><tr><td>&quot;DECEMBER&quot;</td><td>25</td><td>&quot;(&#x27;Neon / STXfilms / Ketchup En…</td><td>&quot;(&quot;Michael Mann (director), Tro…</td><td>&quot;(&#x27;[329]&#x27;, &#x27;#cite_note-329&#x27;)&quot;</td><td>&quot;Ferrari&quot;</td><td>&quot;/wiki/Ferrari_(2023_film)&quot;</td><td>&quot;Neon / STXfilms / Ketchup Ente…</td><td>&quot;/wiki/Neon_(company)&quot;</td><td>&quot;Ferrari_(2023_film)&quot;</td><td>&quot;https://en.wikipedia.org/api/r…</td></tr><tr><td>&quot;DECEMBER&quot;</td><td>29</td><td>&quot;(&#x27;Netflix&#x27;, &#x27;/wiki/Netflix&#x27;)&quot;</td><td>&quot;(&#x27;Dan Levy (director/screenpla…</td><td>&quot;(&#x27;[330]&#x27;, &#x27;#cite_note-330&#x27;)&quot;</td><td>&quot;Good Grief&quot;</td><td>&quot;/wiki/Good_Grief_(film)&quot;</td><td>&quot;Netflix&quot;</td><td>&quot;/wiki/Netflix&quot;</td><td>&quot;Good_Grief_(film)&quot;</td><td>&quot;https://en.wikipedia.org/api/r…</td></tr></tbody></table></div>"
      ],
      "text/plain": [
       "shape: (12_122, 11)\n",
       "┌──────────┬─────┬────────────┬────────────┬───┬────────────┬────────────┬────────────┬────────────┐\n",
       "│ month    ┆ day ┆ production ┆ cast_and_c ┆ … ┆ production ┆ production ┆ link       ┆ summary_li │\n",
       "│ ---      ┆ --- ┆ _company   ┆ rew        ┆   ┆ _company_t ┆ _company_h ┆ ---        ┆ nk         │\n",
       "│ str      ┆ i64 ┆ ---        ┆ ---        ┆   ┆ ext        ┆ ref        ┆ str        ┆ ---        │\n",
       "│          ┆     ┆ str        ┆ str        ┆   ┆ ---        ┆ ---        ┆            ┆ str        │\n",
       "│          ┆     ┆            ┆            ┆   ┆ str        ┆ str        ┆            ┆            │\n",
       "╞══════════╪═════╪════════════╪════════════╪═══╪════════════╪════════════╪════════════╪════════════╡\n",
       "│ JANUARY  ┆ 1   ┆ ('American ┆ ('Gordon   ┆ … ┆ American   ┆ /wiki/Amer ┆ Scream_and ┆ https://en │\n",
       "│          ┆     ┆ Internatio ┆ Hessler    ┆   ┆ Internatio ┆ ican_Inter ┆ _Scream_Ag ┆ .wikipedia │\n",
       "│          ┆     ┆ nal Pictu… ┆ (director) ┆   ┆ nal        ┆ national_P ┆ ain        ┆ .org/api/r │\n",
       "│          ┆     ┆            ┆ ; C…       ┆   ┆ Picture…   ┆ …          ┆            ┆ …          │\n",
       "│ JANUARY  ┆ 2   ┆ ('Cinerama ┆ ('George   ┆ … ┆ Cinerama   ┆ /wiki/Cine ┆ Jenny_(197 ┆ https://en │\n",
       "│          ┆     ┆ Releasing  ┆ Bloomfield ┆   ┆ Releasing  ┆ rama_Relea ┆ 0_film)    ┆ .wikipedia │\n",
       "│          ┆     ┆ Corporati… ┆ (director/ ┆   ┆ Corporatio ┆ sing_Corpo ┆            ┆ .org/api/r │\n",
       "│          ┆     ┆            ┆ …          ┆   ┆ n…         ┆ …          ┆            ┆ …          │\n",
       "│ JANUARY  ┆ 6   ┆ ('United   ┆ ('Jerzy    ┆ … ┆ United     ┆ /wiki/Unit ┆ The_Advent ┆ https://en │\n",
       "│          ┆     ┆ Artists',  ┆ Skolimowsk ┆   ┆ Artists    ┆ ed_Artists ┆ ures_of_Ge ┆ .wikipedia │\n",
       "│          ┆     ┆ '/wiki/Uni ┆ i (directo ┆   ┆            ┆            ┆ rard       ┆ .org/api/r │\n",
       "│          ┆     ┆ t…         ┆ r/…        ┆   ┆            ┆            ┆            ┆ …          │\n",
       "│ JANUARY  ┆ 9   ┆ ('Metro-Go ┆ ('Ralph    ┆ … ┆ Metro-Gold ┆ /wiki/Metr ┆ ...tick... ┆ https://en │\n",
       "│          ┆     ┆ ldwyn-Maye ┆ Nelson (di ┆   ┆ wyn-Mayer  ┆ o-Goldwyn- ┆ tick...tic ┆ .wikipedia │\n",
       "│          ┆     ┆ r',        ┆ rector);   ┆   ┆            ┆ Mayer      ┆ k...       ┆ .org/api/r │\n",
       "│          ┆     ┆ '/wiki…    ┆ Jam…       ┆   ┆            ┆            ┆            ┆ …          │\n",
       "│ JANUARY  ┆ 14  ┆ ('Warner   ┆ ('Sidney   ┆ … ┆ Warner Bro ┆ /wiki/Warn ┆ Last_of_th ┆ https://en │\n",
       "│          ┆     ┆ Bros.-Seve ┆ Lumet (dir ┆   ┆ s.-Seven   ┆ er_Bros.-S ┆ e_Mobile_H ┆ .wikipedia │\n",
       "│          ┆     ┆ n Arts',   ┆ ector);    ┆   ┆ Arts       ┆ even_Arts  ┆ ot_Shots   ┆ .org/api/r │\n",
       "│          ┆     ┆ '/…        ┆ Gor…       ┆   ┆            ┆            ┆            ┆ …          │\n",
       "│ …        ┆ …   ┆ …          ┆ …          ┆ … ┆ …          ┆ …          ┆ …          ┆ …          │\n",
       "│ DECEMBER ┆ 22  ┆ ('Ketchup  ┆ ('Michel   ┆ … ┆ Ketchup    ┆ /wiki/Ketc ┆ Memory_(20 ┆ https://en │\n",
       "│          ┆     ┆ Entertainm ┆ Franco (di ┆   ┆ Entertainm ┆ hup_Entert ┆ 23_film)   ┆ .wikipedia │\n",
       "│          ┆     ┆ ent /      ┆ rector/scr ┆   ┆ ent / Mubi ┆ ainment    ┆            ┆ .org/api/r │\n",
       "│          ┆     ┆ Mubi…      ┆ e…         ┆   ┆            ┆            ┆            ┆ …          │\n",
       "│ DECEMBER ┆ 25  ┆ ('Warner   ┆ ('Blitz    ┆ … ┆ Warner     ┆ /wiki/Warn ┆ The_Color_ ┆ https://en │\n",
       "│          ┆     ┆ Bros.      ┆ Bazawule   ┆   ┆ Bros.      ┆ er_Bros._P ┆ Purple_(20 ┆ .wikipedia │\n",
       "│          ┆     ┆ Pictures / ┆ (director) ┆   ┆ Pictures / ┆ ictures    ┆ 23_film)   ┆ .org/api/r │\n",
       "│          ┆     ┆ Ambl…      ┆ , M…       ┆   ┆ Amblin…    ┆            ┆            ┆ …          │\n",
       "│ DECEMBER ┆ 25  ┆ ('Metro-Go ┆ ('George   ┆ … ┆ Metro-Gold ┆ /wiki/Metr ┆ The_Boys_i ┆ https://en │\n",
       "│          ┆     ┆ ldwyn-Maye ┆ Clooney    ┆   ┆ wyn-Mayer  ┆ o-Goldwyn- ┆ n_the_Boat ┆ .wikipedia │\n",
       "│          ┆     ┆ r /        ┆ (director) ┆   ┆ /          ┆ Mayer      ┆ _(film)    ┆ .org/api/r │\n",
       "│          ┆     ┆ Smokeh…    ┆ , M…       ┆   ┆ Smokehou…  ┆            ┆            ┆ …          │\n",
       "│ DECEMBER ┆ 25  ┆ ('Neon /   ┆ (\"Michael  ┆ … ┆ Neon /     ┆ /wiki/Neon ┆ Ferrari_(2 ┆ https://en │\n",
       "│          ┆     ┆ STXfilms / ┆ Mann (dire ┆   ┆ STXfilms / ┆ _(company) ┆ 023_film)  ┆ .wikipedia │\n",
       "│          ┆     ┆ Ketchup    ┆ ctor),     ┆   ┆ Ketchup    ┆            ┆            ┆ .org/api/r │\n",
       "│          ┆     ┆ En…        ┆ Tro…       ┆   ┆ Ente…      ┆            ┆            ┆ …          │\n",
       "│ DECEMBER ┆ 29  ┆ ('Netflix' ┆ ('Dan Levy ┆ … ┆ Netflix    ┆ /wiki/Netf ┆ Good_Grief ┆ https://en │\n",
       "│          ┆     ┆ , '/wiki/N ┆ (director/ ┆   ┆            ┆ lix        ┆ _(film)    ┆ .wikipedia │\n",
       "│          ┆     ┆ etflix')   ┆ screenpla… ┆   ┆            ┆            ┆            ┆ .org/api/r │\n",
       "│          ┆     ┆            ┆            ┆   ┆            ┆            ┆            ┆ …          │\n",
       "└──────────┴─────┴────────────┴────────────┴───┴────────────┴────────────┴────────────┴────────────┘"
      ]
     },
     "execution_count": 20,
     "metadata": {},
     "output_type": "execute_result"
    }
   ],
   "source": [
    "movies = pl.read_csv('data/raw/movies_list_with_links.csv').with_columns(\n",
    "    link = pl.col('title_href').str.replace('/wiki/','')\n",
    ").with_columns(\n",
    "    summary_link = pl.concat_str(pl.lit(prefix),pl.col('link'))\n",
    ")"
   ]
  },
  {
   "cell_type": "code",
   "execution_count": 32,
   "metadata": {},
   "outputs": [],
   "source": [
    "def get_extract(link):\n",
    "    try:\n",
    "        x = r.get(link)\n",
    "        assert x.status_code == 200\n",
    "        return(x.json()['extract'])\n",
    "    except:\n",
    "        return None"
   ]
  }
 ],
 "metadata": {
  "kernelspec": {
   "display_name": "Python 3",
   "language": "python",
   "name": "python3"
  },
  "language_info": {
   "codemirror_mode": {
    "name": "ipython",
    "version": 3
   },
   "file_extension": ".py",
   "mimetype": "text/x-python",
   "name": "python",
   "nbconvert_exporter": "python",
   "pygments_lexer": "ipython3",
   "version": "3.11.9"
  }
 },
 "nbformat": 4,
 "nbformat_minor": 2
}

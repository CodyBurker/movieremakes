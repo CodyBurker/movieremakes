{
 "cells": [
  {
   "cell_type": "code",
   "execution_count": 57,
   "metadata": {},
   "outputs": [],
   "source": [
    "import requests\n",
    "import polars as pl\n",
    "from tqdm import tqdm\n",
    "import os"
   ]
  },
  {
   "cell_type": "code",
   "execution_count": 54,
   "metadata": {},
   "outputs": [],
   "source": [
    "def get_extract(link):\n",
    "    x = None\n",
    "    try:\n",
    "        x = requests.get(link)\n",
    "        assert x.status_code == 200\n",
    "        return(x.json()['extract'])\n",
    "    except Exception as e:\n",
    "        print(f'\\tError: {e}')\n",
    "        return None"
   ]
  },
  {
   "cell_type": "code",
   "execution_count": 37,
   "metadata": {},
   "outputs": [],
   "source": [
    "prefix = 'https://en.wikipedia.org/api/rest_v1/page/summary/'\n",
    "movies = pl.read_csv('data/raw/movies_list_with_links.csv').with_columns(\n",
    "    link = pl.col('title_href').str.replace('/wiki/','')\n",
    ").with_columns(\n",
    "    summary_link = pl.concat_str(pl.lit(prefix),pl.col('link'))\n",
    ")\n",
    "links_list = movies['summary_link'].to_list()"
   ]
  },
  {
   "cell_type": "code",
   "execution_count": 66,
   "metadata": {},
   "outputs": [
    {
     "name": "stderr",
     "output_type": "stream",
     "text": [
      "  1%|          | 140/12122 [00:00<00:25, 473.60it/s]"
     ]
    },
    {
     "name": "stdout",
     "output_type": "stream",
     "text": [
      "\tError: \n",
      "Error with https://en.wikipedia.org/api/rest_v1/page/summary//w/index.php?title=Young_Flying_Hero&action=edit&redlink=1:[Errno 2] No such file or directory: 'data/raw/descriptions//w/index.php?title=Young_Flying_Hero&action=edit&redlink=1.txt'\n",
      "\tError: \n",
      "Error with https://en.wikipedia.org/api/rest_v1/page/summary//w/index.php?title=Girls_for_Mercenaries&action=edit&redlink=1:[Errno 2] No such file or directory: 'data/raw/descriptions//w/index.php?title=Girls_for_Mercenaries&action=edit&redlink=1.txt'\n",
      "Error with None:'NoneType' object has no attribute 'replace'\n",
      "Error with None:'NoneType' object has no attribute 'replace'\n"
     ]
    },
    {
     "name": "stderr",
     "output_type": "stream",
     "text": [
      "  9%|▉         | 1087/12122 [00:00<00:05, 2089.90it/s]"
     ]
    },
    {
     "name": "stdout",
     "output_type": "stream",
     "text": [
      "Error with https://en.wikipedia.org/api/rest_v1/page/summary/99_and_44/100%25_Dead:[Errno 2] No such file or directory: 'data/raw/descriptions/99_and_44/100%25_Dead.txt'\n",
      "Error with None:'NoneType' object has no attribute 'replace'\n",
      "Error with None:'NoneType' object has no attribute 'replace'\n",
      "Error with None:'NoneType' object has no attribute 'replace'\n",
      "Error with None:'NoneType' object has no attribute 'replace'\n",
      "\tError: \n",
      "Error with https://en.wikipedia.org/api/rest_v1/page/summary//w/index.php?title=Tale_of_The_Man_of_Honor&action=edit&redlink=1:[Errno 2] No such file or directory: 'data/raw/descriptions//w/index.php?title=Tale_of_The_Man_of_Honor&action=edit&redlink=1.txt'\n",
      "Error with None:'NoneType' object has no attribute 'replace'\n",
      "Error with None:'NoneType' object has no attribute 'replace'\n",
      "Error with None:'NoneType' object has no attribute 'replace'\n",
      "Error with None:'NoneType' object has no attribute 'replace'\n",
      "Error with None:'NoneType' object has no attribute 'replace'\n",
      "Error with None:'NoneType' object has no attribute 'replace'\n",
      "Error with None:'NoneType' object has no attribute 'replace'\n",
      "Error with None:'NoneType' object has no attribute 'replace'\n",
      "Error with None:'NoneType' object has no attribute 'replace'\n",
      "Error with None:'NoneType' object has no attribute 'replace'\n",
      "Error with None:'NoneType' object has no attribute 'replace'\n",
      "Error with None:'NoneType' object has no attribute 'replace'\n",
      "Error with None:'NoneType' object has no attribute 'replace'\n",
      "Error with None:'NoneType' object has no attribute 'replace'\n",
      "Error with None:'NoneType' object has no attribute 'replace'\n",
      "Error with None:'NoneType' object has no attribute 'replace'\n"
     ]
    },
    {
     "name": "stderr",
     "output_type": "stream",
     "text": [
      " 17%|█▋        | 2031/12122 [00:00<00:03, 2633.61it/s]"
     ]
    },
    {
     "name": "stdout",
     "output_type": "stream",
     "text": [
      "Error with https://en.wikipedia.org/api/rest_v1/page/summary/The_Bugs_Bunny/Road_Runner_Movie:[Errno 2] No such file or directory: 'data/raw/descriptions/The_Bugs_Bunny/Road_Runner_Movie.txt'\n",
      "Error with None:'NoneType' object has no attribute 'replace'\n",
      "\tError: \n",
      "Error with https://en.wikipedia.org/api/rest_v1/page/summary//w/index.php?title=Image_of_the_Beast_(film)&action=edit&redlink=1:[Errno 2] No such file or directory: 'data/raw/descriptions//w/index.php?title=Image_of_the_Beast_(film)&action=edit&redlink=1.txt'\n"
     ]
    },
    {
     "name": "stderr",
     "output_type": "stream",
     "text": [
      " 23%|██▎       | 2815/12122 [00:01<00:03, 2810.03it/s]"
     ]
    },
    {
     "name": "stdout",
     "output_type": "stream",
     "text": [
      "Error with https://en.wikipedia.org/api/rest_v1/page/summary/Victor/Victoria:[Errno 2] No such file or directory: 'data/raw/descriptions/Victor/Victoria.txt'\n",
      "Error with None:'NoneType' object has no attribute 'replace'\n",
      "\tError: \n",
      "Error with https://en.wikipedia.org/api/rest_v1/page/summary/F/X:[Errno 2] No such file or directory: 'data/raw/descriptions/F/X.txt'\n",
      "Error with None:'NoneType' object has no attribute 'replace'\n",
      "Error with None:'NoneType' object has no attribute 'replace'\n",
      "Error with None:'NoneType' object has no attribute 'replace'\n",
      "Error with None:'NoneType' object has no attribute 'replace'\n",
      "Error with None:'NoneType' object has no attribute 'replace'\n",
      "Error with None:'NoneType' object has no attribute 'replace'\n",
      "Error with None:'NoneType' object has no attribute 'replace'\n",
      "Error with None:'NoneType' object has no attribute 'replace'\n",
      "Error with None:'NoneType' object has no attribute 'replace'\n",
      "Error with None:'NoneType' object has no attribute 'replace'\n",
      "Error with None:'NoneType' object has no attribute 'replace'\n",
      "Error with None:'NoneType' object has no attribute 'replace'\n"
     ]
    },
    {
     "name": "stderr",
     "output_type": "stream",
     "text": [
      " 37%|███▋      | 4498/12122 [00:01<00:01, 4182.78it/s]"
     ]
    },
    {
     "name": "stdout",
     "output_type": "stream",
     "text": [
      "Error with https://en.wikipedia.org/api/rest_v1/page/summary/F/X2:[Errno 2] No such file or directory: 'data/raw/descriptions/F/X2.txt'\n",
      "Error with None:'NoneType' object has no attribute 'replace'\n",
      "Error with None:'NoneType' object has no attribute 'replace'\n",
      "Error with None:'NoneType' object has no attribute 'replace'\n",
      "Error with None:'NoneType' object has no attribute 'replace'\n",
      "Error with None:'NoneType' object has no attribute 'replace'\n",
      "Error with None:'NoneType' object has no attribute 'replace'\n",
      "\tError: \n",
      "Error with https://en.wikipedia.org/api/rest_v1/page/summary/Naked_Gun_33_1/3:_The_Final_Insult:[Errno 2] No such file or directory: 'data/raw/descriptions/Naked_Gun_33_1/3:_The_Final_Insult.txt'\n",
      "Error with None:'NoneType' object has no attribute 'replace'\n",
      "Error with None:'NoneType' object has no attribute 'replace'\n",
      "Error with None:'NoneType' object has no attribute 'replace'\n"
     ]
    },
    {
     "name": "stderr",
     "output_type": "stream",
     "text": [
      " 51%|█████▏    | 6241/12122 [00:01<00:01, 4895.48it/s]"
     ]
    },
    {
     "name": "stdout",
     "output_type": "stream",
     "text": [
      "Error with https://en.wikipedia.org/api/rest_v1/page/summary/Face/Off:[Errno 2] No such file or directory: 'data/raw/descriptions/Face/Off.txt'\n",
      "Error with None:'NoneType' object has no attribute 'replace'\n",
      "Error with None:'NoneType' object has no attribute 'replace'\n",
      "Error with None:'NoneType' object has no attribute 'replace'\n",
      "Error with None:'NoneType' object has no attribute 'replace'\n",
      "Error with None:'NoneType' object has no attribute 'replace'\n",
      "Error with None:'NoneType' object has no attribute 'replace'\n",
      "Error with None:'NoneType' object has no attribute 'replace'\n",
      "Error with None:'NoneType' object has no attribute 'replace'\n",
      "Error with None:'NoneType' object has no attribute 'replace'\n",
      "Error with None:'NoneType' object has no attribute 'replace'\n",
      "Error with None:'NoneType' object has no attribute 'replace'\n",
      "Error with https://en.wikipedia.org/api/rest_v1/page/summary/Crazy/Beautiful:[Errno 2] No such file or directory: 'data/raw/descriptions/Crazy/Beautiful.txt'\n",
      "Error with None:'NoneType' object has no attribute 'replace'\n",
      "Error with None:'NoneType' object has no attribute 'replace'\n",
      "Error with None:'NoneType' object has no attribute 'replace'\n",
      "Error with None:'NoneType' object has no attribute 'replace'\n",
      "Error with None:'NoneType' object has no attribute 'replace'\n",
      "Error with None:'NoneType' object has no attribute 'replace'\n",
      "Error with None:'NoneType' object has no attribute 'replace'\n"
     ]
    },
    {
     "name": "stderr",
     "output_type": "stream",
     "text": [
      " 60%|██████    | 7330/12122 [00:02<00:01, 4238.84it/s]"
     ]
    },
    {
     "name": "stdout",
     "output_type": "stream",
     "text": [
      "\tError: \n",
      "Error with https://en.wikipedia.org/api/rest_v1/page/summary//w/index.php?title=Off_the_Lip&action=edit&redlink=1:[Errno 2] No such file or directory: 'data/raw/descriptions//w/index.php?title=Off_the_Lip&action=edit&redlink=1.txt'\n",
      "Error with https://en.wikipedia.org/api/rest_v1/page/summary/Fahrenheit_9/11:[Errno 2] No such file or directory: 'data/raw/descriptions/Fahrenheit_9/11.txt'\n",
      "Error with None:'NoneType' object has no attribute 'replace'\n",
      "Error with None:'NoneType' object has no attribute 'replace'\n",
      "Error with None:'NoneType' object has no attribute 'replace'\n",
      "Error with None:'NoneType' object has no attribute 'replace'\n",
      "Error with None:'NoneType' object has no attribute 'replace'\n",
      "Error with None:'NoneType' object has no attribute 'replace'\n",
      "Error with None:'NoneType' object has no attribute 'replace'\n",
      "Error with None:'NoneType' object has no attribute 'replace'\n",
      "Error with None:'NoneType' object has no attribute 'replace'\n",
      "Error with None:'NoneType' object has no attribute 'replace'\n",
      "Error with None:'NoneType' object has no attribute 'replace'\n",
      "Error with None:'NoneType' object has no attribute 'replace'\n",
      "Error with None:'NoneType' object has no attribute 'replace'\n",
      "Error with None:'NoneType' object has no attribute 'replace'\n",
      "Error with None:'NoneType' object has no attribute 'replace'\n",
      "Error with None:'NoneType' object has no attribute 'replace'\n",
      "Error with None:'NoneType' object has no attribute 'replace'\n",
      "Error with None:'NoneType' object has no attribute 'replace'\n",
      "Error with None:'NoneType' object has no attribute 'replace'\n",
      "Error with None:'NoneType' object has no attribute 'replace'\n",
      "Error with None:'NoneType' object has no attribute 'replace'\n",
      "Error with None:'NoneType' object has no attribute 'replace'\n",
      "Error with None:'NoneType' object has no attribute 'replace'\n",
      "Error with None:'NoneType' object has no attribute 'replace'\n",
      "Error with None:'NoneType' object has no attribute 'replace'\n",
      "Error with None:'NoneType' object has no attribute 'replace'\n"
     ]
    },
    {
     "name": "stderr",
     "output_type": "stream",
     "text": [
      " 73%|███████▎  | 8880/12122 [00:02<00:00, 4746.13it/s]"
     ]
    },
    {
     "name": "stdout",
     "output_type": "stream",
     "text": [
      "Error with https://en.wikipedia.org/api/rest_v1/page/summary/Frost/Nixon_(film):[Errno 2] No such file or directory: 'data/raw/descriptions/Frost/Nixon_(film).txt'\n",
      "Error with None:'NoneType' object has no attribute 'replace'\n",
      "Error with None:'NoneType' object has no attribute 'replace'\n",
      "Error with None:'NoneType' object has no attribute 'replace'\n",
      "Error with None:'NoneType' object has no attribute 'replace'\n",
      "Error with None:'NoneType' object has no attribute 'replace'\n",
      "Error with None:'NoneType' object has no attribute 'replace'\n",
      "Error with None:'NoneType' object has no attribute 'replace'\n",
      "Error with None:'NoneType' object has no attribute 'replace'\n",
      "Error with None:'NoneType' object has no attribute 'replace'\n",
      "Error with None:'NoneType' object has no attribute 'replace'\n",
      "Error with None:'NoneType' object has no attribute 'replace'\n",
      "Error with None:'NoneType' object has no attribute 'replace'\n",
      "Error with None:'NoneType' object has no attribute 'replace'\n",
      "Error with None:'NoneType' object has no attribute 'replace'\n",
      "Error with None:'NoneType' object has no attribute 'replace'\n",
      "Error with None:'NoneType' object has no attribute 'replace'\n",
      "Error with None:'NoneType' object has no attribute 'replace'\n",
      "Error with None:'NoneType' object has no attribute 'replace'\n",
      "Error with None:'NoneType' object has no attribute 'replace'\n",
      "Error with None:'NoneType' object has no attribute 'replace'\n",
      "Error with None:'NoneType' object has no attribute 'replace'\n",
      "Error with None:'NoneType' object has no attribute 'replace'\n",
      "\tError: \n",
      "Error with https://en.wikipedia.org/api/rest_v1/page/summary/50/50_(2011_film):[Errno 2] No such file or directory: 'data/raw/descriptions/50/50_(2011_film).txt'\n",
      "Error with None:'NoneType' object has no attribute 'replace'\n",
      "Error with None:'NoneType' object has no attribute 'replace'\n",
      "Error with None:'NoneType' object has no attribute 'replace'\n",
      "Error with None:'NoneType' object has no attribute 'replace'\n",
      "Error with None:'NoneType' object has no attribute 'replace'\n",
      "Error with None:'NoneType' object has no attribute 'replace'\n",
      "Error with None:'NoneType' object has no attribute 'replace'\n",
      "Error with None:'NoneType' object has no attribute 'replace'\n",
      "Error with None:'NoneType' object has no attribute 'replace'\n"
     ]
    },
    {
     "name": "stderr",
     "output_type": "stream",
     "text": [
      " 81%|████████  | 9799/12122 [00:02<00:00, 3917.37it/s]"
     ]
    },
    {
     "name": "stdout",
     "output_type": "stream",
     "text": [
      "Error with https://en.wikipedia.org/api/rest_v1/page/summary/V/H/S/2:[Errno 2] No such file or directory: 'data/raw/descriptions/V/H/S/2.txt'\n",
      "Error with None:'NoneType' object has no attribute 'replace'\n",
      "Error with None:'NoneType' object has no attribute 'replace'\n",
      "Error with None:'NoneType' object has no attribute 'replace'\n",
      "Error with None:'NoneType' object has no attribute 'replace'\n",
      "Error with None:'NoneType' object has no attribute 'replace'\n",
      "Error with None:'NoneType' object has no attribute 'replace'\n",
      "Error with None:'NoneType' object has no attribute 'replace'\n",
      "Error with https://en.wikipedia.org/api/rest_v1/page/summary/Self/less:[Errno 2] No such file or directory: 'data/raw/descriptions/Self/less.txt'\n",
      "Error with None:'NoneType' object has no attribute 'replace'\n",
      "Error with None:'NoneType' object has no attribute 'replace'\n",
      "Error with None:'NoneType' object has no attribute 'replace'\n",
      "Error with None:'NoneType' object has no attribute 'replace'\n"
     ]
    },
    {
     "name": "stderr",
     "output_type": "stream",
     "text": [
      " 87%|████████▋ | 10602/12122 [00:03<00:00, 3195.49it/s]"
     ]
    },
    {
     "name": "stdout",
     "output_type": "stream",
     "text": [
      "Error with https://en.wikipedia.org/api/rest_v1/page/summary/9/11_(2017_film):[Errno 2] No such file or directory: 'data/raw/descriptions/9/11_(2017_film).txt'\n",
      "\tError: \n",
      "Error with https://en.wikipedia.org/api/rest_v1/page/summary/Fahrenheit_11/9:[Errno 2] No such file or directory: 'data/raw/descriptions/Fahrenheit_11/9.txt'\n",
      "Error with None:'NoneType' object has no attribute 'replace'\n",
      "Error with None:'NoneType' object has no attribute 'replace'\n",
      "Error with None:'NoneType' object has no attribute 'replace'\n",
      "Error with None:'NoneType' object has no attribute 'replace'\n",
      "Error with None:'NoneType' object has no attribute 'replace'\n",
      "Error with None:'NoneType' object has no attribute 'replace'\n",
      "Error with None:'NoneType' object has no attribute 'replace'\n",
      "Error with None:'NoneType' object has no attribute 'replace'\n",
      "Error with None:'NoneType' object has no attribute 'replace'\n",
      "Error with None:'NoneType' object has no attribute 'replace'\n"
     ]
    },
    {
     "name": "stderr",
     "output_type": "stream",
     "text": [
      " 94%|█████████▍| 11451/12122 [00:03<00:00, 4106.60it/s]"
     ]
    },
    {
     "name": "stdout",
     "output_type": "stream",
     "text": [
      "Error with https://en.wikipedia.org/api/rest_v1/page/summary/Mother/Android:[Errno 2] No such file or directory: 'data/raw/descriptions/Mother/Android.txt'\n",
      "Error with None:'NoneType' object has no attribute 'replace'\n",
      "Error with https://en.wikipedia.org/api/rest_v1/page/summary/They/Them_(film):[Errno 2] No such file or directory: 'data/raw/descriptions/They/Them_(film).txt'\n"
     ]
    },
    {
     "name": "stderr",
     "output_type": "stream",
     "text": [
      " 98%|█████████▊| 11874/12122 [00:03<00:00, 3016.52it/s]"
     ]
    },
    {
     "name": "stdout",
     "output_type": "stream",
     "text": [
      "\tError: \n",
      "Error with https://en.wikipedia.org/api/rest_v1/page/summary/V/H/S/99:[Errno 2] No such file or directory: 'data/raw/descriptions/V/H/S/99.txt'\n",
      "Error with None:'NoneType' object has no attribute 'replace'\n",
      "Error with None:'NoneType' object has no attribute 'replace'\n",
      "Error with None:'NoneType' object has no attribute 'replace'\n",
      "Error with None:'NoneType' object has no attribute 'replace'\n",
      "Error with None:'NoneType' object has no attribute 'replace'\n",
      "Error with None:'NoneType' object has no attribute 'replace'\n",
      "Error with None:'NoneType' object has no attribute 'replace'\n",
      "Error with None:'NoneType' object has no attribute 'replace'\n",
      "Error with None:'NoneType' object has no attribute 'replace'\n",
      "Error with https://en.wikipedia.org/api/rest_v1/page/summary/Birth/Rebirth:[Errno 2] No such file or directory: 'data/raw/descriptions/Birth/Rebirth.txt'\n",
      "Error with None:'NoneType' object has no attribute 'replace'\n",
      "Error with None:'NoneType' object has no attribute 'replace'\n"
     ]
    },
    {
     "name": "stderr",
     "output_type": "stream",
     "text": [
      "100%|██████████| 12122/12122 [00:03<00:00, 3175.98it/s]"
     ]
    },
    {
     "name": "stdout",
     "output_type": "stream",
     "text": [
      "\tError: \n",
      "Error with https://en.wikipedia.org/api/rest_v1/page/summary/V/H/S/85:[Errno 2] No such file or directory: 'data/raw/descriptions/V/H/S/85.txt'\n",
      "\tError: \n",
      "Error with https://en.wikipedia.org/api/rest_v1/page/summary//w/index.php?title=Sight_(2023_film)&action=edit&redlink=1:[Errno 2] No such file or directory: 'data/raw/descriptions//w/index.php?title=Sight_(2023_film)&action=edit&redlink=1.txt'\n",
      "Error with None:'NoneType' object has no attribute 'replace'\n",
      "Error with None:'NoneType' object has no attribute 'replace'\n",
      "Error with None:'NoneType' object has no attribute 'replace'\n"
     ]
    },
    {
     "name": "stderr",
     "output_type": "stream",
     "text": [
      "\n"
     ]
    }
   ],
   "source": [
    "for a in tqdm(links_list):\n",
    "    try:\n",
    "        filename = 'data/raw/descriptions/' + a.replace('https://en.wikipedia.org/api/rest_v1/page/summary/','') + '.txt'\n",
    "        if os.path.exists(filename):\n",
    "            pass\n",
    "        else:\n",
    "            description = get_extract(a)\n",
    "            with open(filename, 'w') as f:\n",
    "                f.write(description)\n",
    "    except Exception as e:\n",
    "        print(f'Error with {a}:{e}')"
   ]
  }
 ],
 "metadata": {
  "kernelspec": {
   "display_name": "Python 3",
   "language": "python",
   "name": "python3"
  },
  "language_info": {
   "codemirror_mode": {
    "name": "ipython",
    "version": 3
   },
   "file_extension": ".py",
   "mimetype": "text/x-python",
   "name": "python",
   "nbconvert_exporter": "python",
   "pygments_lexer": "ipython3",
   "version": "3.11.9"
  }
 },
 "nbformat": 4,
 "nbformat_minor": 2
}

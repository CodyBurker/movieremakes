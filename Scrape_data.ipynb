{
 "cells": [
  {
   "cell_type": "code",
   "execution_count": 2,
   "metadata": {},
   "outputs": [],
   "source": [
    "import pandas as pd\n",
    "import requests as r\n",
    "from io import StringIO"
   ]
  },
  {
   "cell_type": "code",
   "execution_count": 87,
   "metadata": {},
   "outputs": [],
   "source": [
    "def get_page(year):\n",
    "    url = f'https://en.wikipedia.org/wiki/List_of_American_films_of_{year}'\n",
    "    page_load = r.get(url)\n",
    "    string = StringIO(page_load.text)\n",
    "    dfs = pd.read_html(string,extract_links=\"all\")\n",
    "    sub_dfs = []\n",
    "    for this_table in dfs:\n",
    "        if ('Opening', None) in this_table.columns:\n",
    "            sub_dfs.append(this_table)\n",
    "    concatted = pd.concat(sub_dfs)\n",
    "    concatted['year'] = year\n",
    "    return(concatted)\n"
   ]
  },
  {
   "cell_type": "code",
   "execution_count": 88,
   "metadata": {},
   "outputs": [
    {
     "name": "stdout",
     "output_type": "stream",
     "text": [
      "Getting 1970\n",
      "Getting 1971\n",
      "Getting 1972\n",
      "Getting 1973\n",
      "Getting 1974\n",
      "Getting 1975\n",
      "Getting 1976\n",
      "Getting 1977\n",
      "Getting 1978\n",
      "Getting 1979\n",
      "Getting 1980\n",
      "Getting 1981\n",
      "Getting 1982\n",
      "Getting 1983\n",
      "Getting 1984\n",
      "Getting 1985\n",
      "Getting 1986\n",
      "Getting 1987\n",
      "Getting 1988\n",
      "Getting 1989\n",
      "Getting 1990\n",
      "Getting 1991\n",
      "Getting 1992\n",
      "Getting 1993\n",
      "Getting 1994\n",
      "Getting 1995\n",
      "Getting 1996\n",
      "Getting 1997\n",
      "Getting 1998\n",
      "Getting 1999\n",
      "Getting 2000\n",
      "Getting 2001\n",
      "Getting 2002\n",
      "Getting 2003\n",
      "Getting 2004\n",
      "Getting 2005\n",
      "Getting 2006\n",
      "Getting 2007\n",
      "Getting 2008\n",
      "Getting 2009\n",
      "Getting 2010\n",
      "Getting 2011\n",
      "Getting 2012\n",
      "Getting 2013\n",
      "Getting 2014\n",
      "Getting 2015\n",
      "Getting 2016\n",
      "Getting 2017\n",
      "Getting 2018\n",
      "Getting 2019\n",
      "Getting 2020\n",
      "Getting 2021\n",
      "Getting 2022\n",
      "Getting 2023\n"
     ]
    }
   ],
   "source": [
    "all_years = {}\n",
    "for year in range(1970,2024):\n",
    "    if year in all_years:\n",
    "        print(f'Skipping {year}')\n",
    "        break\n",
    "    print(f'Getting {year}')\n",
    "    this_year = get_page(year)\n",
    "    all_years[year] = this_year"
   ]
  },
  {
   "cell_type": "code",
   "execution_count": 89,
   "metadata": {},
   "outputs": [],
   "source": [
    "all_years_pd = pd.concat([all_years[k] for k in all_years])"
   ]
  },
  {
   "cell_type": "code",
   "execution_count": 131,
   "metadata": {},
   "outputs": [
    {
     "name": "stdout",
     "output_type": "stream",
     "text": [
      "Creating column month from ('Opening', None)\n",
      "\tDropping column ('Opening', None)\n",
      "Creating column day from ('Opening', None).1\n",
      "\tDropping column ('Opening', None).1\n",
      "Creating column title from ('Title', None)\n",
      "\tDropping column ('Title', None)\n",
      "Creating column production_company from ('Production company', None)\n",
      "\tDropping column ('Production company', None)\n",
      "Creating column cast_and_crew from ('Cast and crew', None)\n",
      "\tDropping column ('Cast and crew', None)\n",
      "Creating column ref from ('Ref.', None)\n",
      "\tDropping column ('Ref.', None)\n",
      "Creating column production_company_2 from year\n",
      "\tDropping column year\n"
     ]
    }
   ],
   "source": [
    "col_names = ['month','day','title','production_company','cast_and_crew','ref','production_company_2']\n",
    "# col_dict = {all_years_pd.columns[i]:col_names[i] for i in range(len(col_names))}\n",
    "renamed = all_years_pd.copy()\n",
    "for i in range(len(col_names)):\n",
    "    old_name = all_years_pd.columns[i]\n",
    "    print(f'Creating column {col_names[i]} from {old_name}')\n",
    "    renamed[col_names[i]] = all_years_pd[old_name]\n",
    "    print(f'\\tDropping column {old_name}')\n",
    "    renamed = renamed.drop(old_name, axis=1)"
   ]
  },
  {
   "cell_type": "code",
   "execution_count": 150,
   "metadata": {},
   "outputs": [],
   "source": [
    "def extract_first(val):\n",
    "    try:\n",
    "        return val[0]\n",
    "    except:\n",
    "        return val\n",
    "def extract_second(val):\n",
    "    try:\n",
    "        return val[1]\n",
    "    except:\n",
    "        return val"
   ]
  },
  {
   "cell_type": "code",
   "execution_count": 162,
   "metadata": {},
   "outputs": [],
   "source": [
    "cleaned = renamed.copy()\n",
    "cleaned['month'] = cleaned['month'].apply(extract_first)\n",
    "cleaned['day'] = cleaned['day'].apply(extract_first)\n",
    "cleaned['title_text'] = cleaned['title'].apply(extract_first)\n",
    "cleaned['title_href'] = cleaned['title'].apply(extract_second)\n",
    "cleaned['production_company_text'] = cleaned['production_company'].apply(extract_first)\n",
    "cleaned['production_company_href'] = cleaned['production_company'].apply(extract_second)\n",
    "cleaned = cleaned.drop([('', None),(\"Production Company\",None),\"production_company_2\"],axis=1)"
   ]
  },
  {
   "cell_type": "code",
   "execution_count": 165,
   "metadata": {},
   "outputs": [],
   "source": [
    "cleaned.to_csv('data/raw/movies_list_with_links.csv')"
   ]
  }
 ],
 "metadata": {
  "kernelspec": {
   "display_name": "Python 3",
   "language": "python",
   "name": "python3"
  },
  "language_info": {
   "codemirror_mode": {
    "name": "ipython",
    "version": 3
   },
   "file_extension": ".py",
   "mimetype": "text/x-python",
   "name": "python",
   "nbconvert_exporter": "python",
   "pygments_lexer": "ipython3",
   "version": "3.11.9"
  }
 },
 "nbformat": 4,
 "nbformat_minor": 2
}
